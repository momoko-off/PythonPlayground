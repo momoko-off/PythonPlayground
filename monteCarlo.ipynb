{
 "cells": [
  {
   "cell_type": "markdown",
   "id": "9c6f99b5-edcb-4c61-8684-d5176e4ccdac",
   "metadata": {},
   "source": [
    "Packages"
   ]
  },
  {
   "cell_type": "code",
   "execution_count": 48,
   "id": "6ea0ff9a-9328-42ea-86cd-11548928eeb7",
   "metadata": {},
   "outputs": [],
   "source": [
    "import numpy as np\n",
    "import time\n",
    "import matplotlib.pyplot as plt\n",
    "import bisect\n",
    "import math\n",
    "import bisect\n",
    "\n",
    "from scipy.stats import beta\n",
    "from mpl_toolkits.mplot3d import Axes3D"
   ]
  },
  {
   "cell_type": "markdown",
   "id": "de94c0a3-78f2-449b-a9bc-2cccdf80d03b",
   "metadata": {},
   "source": [
    "Decorators"
   ]
  },
  {
   "cell_type": "code",
   "execution_count": 146,
   "id": "173d379a-bdc7-492f-9316-895c5384ed13",
   "metadata": {},
   "outputs": [],
   "source": [
    "# test performance of a function\n",
    "def timer(f):\n",
    "    def countTime(*args, **kwargs):\n",
    "        print(\"Start timing...\")\n",
    "        s = time.time()\n",
    "        res = f(*args, **kwargs)\n",
    "        e = time.time()\n",
    "        print(\"End timing.\")\n",
    "        print(\"Processed in %f seconds.\" %(e-s))\n",
    "        return res\n",
    "    return countTime"
   ]
  },
  {
   "cell_type": "code",
   "execution_count": 40,
   "id": "a42f4410-c3cc-4fed-a153-820b5c7a4e48",
   "metadata": {},
   "outputs": [],
   "source": [
    "# Convert a scalar function to a vector function\n",
    "def vecfunc(f):\n",
    "    return np.frompyfunc(f,1,1)"
   ]
  },
  {
   "cell_type": "markdown",
   "id": "e170b9f4-df5d-43d6-a631-a9aa89962127",
   "metadata": {},
   "source": [
    "Functions"
   ]
  },
  {
   "cell_type": "code",
   "execution_count": 134,
   "id": "2d7d1b02-426b-4359-8eea-7ff15d212a50",
   "metadata": {},
   "outputs": [],
   "source": [
    "# find the position of each element in nx when put into mx\n",
    "def vecBisect(mx: np.array, nx: np.array) -> np.array:\n",
    "    \n",
    "    @vecfunc\n",
    "    def bis(x) -> int:\n",
    "        return max(1,bisect.bisect_left(mx,x))\n",
    "    \n",
    "    return bis(nx)\n",
    "\n",
    "# input: scatter monotonously increasing function my = f(mx), lattice nx\n",
    "# output: scatter function ny = f(nx) using interpolation method\n",
    "def regularizeFunction(mx, my, nx) -> np.array:\n",
    "    pos = vecBisect(mx,nx).astype(int)\n",
    "    mx, my = np.append(mx,1), np.append(my,1)\n",
    "    ny = (my[pos]-my[pos-1])*(nx-mx[pos-1])/(mx[pos]-mx[pos-1])+my[pos]\n",
    "    return ny"
   ]
  },
  {
   "cell_type": "code",
   "execution_count": 4,
   "id": "c876f3c9-e76b-4ebe-87fa-05514252e668",
   "metadata": {},
   "outputs": [],
   "source": [
    "# Monte Carlo simulation\n",
    "def monteCarlo(steps: int, weights: np.array, mult: np.array):\n",
    "    # weights = eigenvalue vector\n",
    "    # mult = multiplicity vector\n",
    "    flatten_weights = np.ones(np.sum(mult))\n",
    "    alpha = flatten_weights/2\n",
    "    rvec = np.random.dirichlet(alpha, size = steps)\n",
    "    i = 0\n",
    "    for j in range(len(mult)):\n",
    "        for _ in range(mult[j]):\n",
    "            flatten_weights[i] = weights[j]\n",
    "            i += 1\n",
    "    col = np.dot(rvec, flatten_weights)\n",
    "    col.sort()\n",
    "    return col"
   ]
  },
  {
   "cell_type": "code",
   "execution_count": 150,
   "id": "edc9e56c-fd70-4bbc-b02f-3abb8b4bf1aa",
   "metadata": {},
   "outputs": [],
   "source": [
    "# generate CDF function according to Monte Carlo simulation\n",
    "def genCDF(steps: int, weights: np.array, mult: np.array):\n",
    "    cx = monteCarlo(steps,weights,mult)\n",
    "    \n",
    "    @timer\n",
    "    @vecfunc\n",
    "    def cdf(f: float) -> float:\n",
    "        x = cx\n",
    "        y = np.linspace(0,1,steps)\n",
    "        if f <= x[0]:\n",
    "            return 0\n",
    "        elif f >= x[-1]:\n",
    "            return 1\n",
    "        else:\n",
    "            pos = vecBisect(x,f)\n",
    "            return (y[pos]-y[pos-1])*(f-x[pos-1])/(x[pos]-x[pos-1])+y[pos]\n",
    "    \n",
    "    return cdf"
   ]
  },
  {
   "cell_type": "code",
   "execution_count": 5,
   "id": "7d490c3c-1691-447c-af3d-1245b03411a8",
   "metadata": {},
   "outputs": [],
   "source": [
    "# Integral operator with Simpson integral method\n",
    "def operator(tsteps:int, xsteps: int, lam: float, m: int, n: int, f): \n",
    "    \n",
    "    # Convert CDF to integral core\n",
    "    x = np.dot(np.linspace(0, 1, 2*xsteps+1).reshape(2*xsteps+1, 1),np.ones(tsteps+1).reshape(1, tsteps+1))\n",
    "    y = np.dot(np.ones(2*xsteps+1).reshape(2*xsteps+1, 1),np.linspace(0, 1, tsteps+1).reshape(1, tsteps+1))\n",
    "    intCore = (y-lam*x)/(1-x)\n",
    "    intCore[np.isnan(intCore)] = lam\n",
    "    intCore[np.isinf(intCore)] = 1\n",
    "    intCore = f(intCore)\n",
    "    \n",
    "    # Plot figure of integral core\n",
    "    \"\"\"\n",
    "    fig = plt.figure()\n",
    "    ax = Axes3D(fig)\n",
    "    X, Y = np.meshgrid(np.linspace(0,1,tsteps+1),np.linspace(0,1,2*xsteps+1))\n",
    "    plt.xlabel(\"x\")\n",
    "    plt.ylabel(\"y\")\n",
    "    ax.plot_surface(X,Y,intCore,rstride=1,cstride=1,cmap=\"rainbow\")\n",
    "    \"\"\"\n",
    "    \n",
    "    # Beta density function\n",
    "    betaFunc = lambda x: beta.pdf(x, m/2, n/2)\n",
    "    betaFunc = np.frompyfunc(betaFunc, 1, 1)\n",
    "    betaDens = np.linspace(0, 1, 2*xsteps+1)\n",
    "    betaDens = betaFunc(betaDens)\n",
    "    betaDens[0] = 0\n",
    "    betaDens[-1] = 0\n",
    "    \n",
    "    # Simpson integral\n",
    "    betaDens[2:2*xsteps:2] *= 2\n",
    "    betaDens[1:2*xsteps:2] *= 4\n",
    "    betaDens /= 6*xsteps\n",
    "    innerprod = np.dot(betaDens, intCore)\n",
    "    \n",
    "    return innerprod"
   ]
  },
  {
   "cell_type": "code",
   "execution_count": 89,
   "id": "91d72e76-ea78-441d-a03c-7b70b29f86df",
   "metadata": {},
   "outputs": [],
   "source": [
    "def dist(mx, my, nx, ny):\n",
    "    my = regularizeFunction(mx,my,nx)\n",
    "    return ny-my"
   ]
  },
  {
   "cell_type": "code",
   "execution_count": 151,
   "id": "9430ff2a-aed8-4acd-90ad-689f5c3ad6ce",
   "metadata": {},
   "outputs": [],
   "source": [
    "## Main parameters\n",
    "# Eigenvalues and multiplicities\n",
    "weights = np.array([0, 1, 0.37])\n",
    "mult = np.array([2, 2, 7])\n",
    "\n",
    "# CDF of S_n-1\n",
    "cdf = genCDF(steps,np.array([0,1]),np.array([2,2]))\n",
    "\n",
    "### Simulation parameters\n",
    "## Monte Carlo\n",
    "steps = 10**6\n",
    "\n",
    "## Integral\n",
    "# Integral point\n",
    "xsteps = 10**3\n",
    "# Function point\n",
    "tsteps = 10**2"
   ]
  },
  {
   "cell_type": "code",
   "execution_count": 142,
   "id": "7a6c7a95-8704-44ad-947c-4cb739b6a477",
   "metadata": {
    "tags": []
   },
   "outputs": [],
   "source": [
    "mx = np.linspace(0, 1, steps)\n",
    "my = monteCarlo(steps, weights, mult)"
   ]
  },
  {
   "cell_type": "code",
   "execution_count": null,
   "id": "f481b9c9-ebf2-441e-8f3a-cfbf7ae834ba",
   "metadata": {},
   "outputs": [],
   "source": [
    "ix = np.linspace(0, 1, tsteps)\n",
    "iy = operator(tsteps, xsteps, weights[-1], mult[-1], sum(mult)-mult[-1], cdf)"
   ]
  },
  {
   "cell_type": "code",
   "execution_count": null,
   "id": "174ff3ea-06f7-4054-9acf-5659c9953555",
   "metadata": {},
   "outputs": [],
   "source": [
    "plt.plot(my, mx, ls = \"-\", lw = 1, color = \"blue\", label = \"Monte Carlo\")\n",
    "plt.plot(ix, iy, ls = \":\", lw = 3, color = \"red\", label = \"Integral Method\")\n",
    "plt.plot(mx, cdf(mx),ls = \"-.\", lw = 1, color = \"seagreen\", label = \"CDF of S _(n-1)\")\n",
    "plt.xlabel('t')\n",
    "plt.ylabel('F(t)')\n",
    "plt.legend()\n",
    "plt.savefig('case.jpg',dpi = 500)\n",
    "plt.show()"
   ]
  },
  {
   "cell_type": "code",
   "execution_count": 90,
   "id": "31b129d6-eb5e-4e35-8609-4318cd62073c",
   "metadata": {},
   "outputs": [],
   "source": [
    "distance = dist(my, mx, ix, iy)"
   ]
  },
  {
   "cell_type": "code",
   "execution_count": 91,
   "id": "24fe0831-f3b4-4a4e-a00e-50667f8d1b43",
   "metadata": {},
   "outputs": [
    {
     "data": {
      "image/png": "[encoded data removed]",
      "text/plain": [
       "<Figure size 432x288 with 1 Axes>"
      ]
     },
     "metadata": {
      "needs_background": "light"
     },
     "output_type": "display_data"
    }
   ],
   "source": [
    "plt.gca().ticklabel_format(style='scientific', scilimits=(-1,0), useMathText=True)\n",
    "plt.plot(ix, distance, ls = \"-\", lw = 1, color = \"blue\", label = \"Error\")\n",
    "plt.xlabel('t')\n",
    "plt.ylabel('e')\n",
    "plt.legend()\n",
    "plt.savefig('error.jpg',dpi = 500)\n",
    "plt.show()"
   ]
  },
  {
   "cell_type": "code",
   "execution_count": 100,
   "id": "48a967d3-32b4-4173-9425-2078a33d39e6",
   "metadata": {},
   "outputs": [],
   "source": [
    "# Convert a scalar function to a vector function\n",
    "def vecfunc_2_1(f):\n",
    "    return np.frompyfunc(f,2,1)"
   ]
  },
  {
   "cell_type": "code",
   "execution_count": 101,
   "id": "cb2b3431-d209-4982-ad6b-7c7ecafe2887",
   "metadata": {},
   "outputs": [],
   "source": [
    "@vecfunc_2_1\n",
    "def bis(x: float, mx: np.array) -> int:\n",
    "    return max(1,bisect.bisect_left(mx,x))\n",
    "    "
   ]
  },
  {
   "cell_type": "code",
   "execution_count": 153,
   "id": "a80ffc55-fd83-433d-872d-fe0d9af01a9b",
   "metadata": {},
   "outputs": [
    {
     "name": "stdout",
     "output_type": "stream",
     "text": [
      "Start timing...\n",
      "End timing.\n",
      "Processed in 0.022952 seconds.\n"
     ]
    },
    {
     "data": {
      "text/plain": [
       "array([0.49927005885909626, 0.6994746607656898, 0.49927005885909626,\n",
       "       0.6994746607656898], dtype=object)"
      ]
     },
     "execution_count": 153,
     "metadata": {},
     "output_type": "execute_result"
    }
   ],
   "source": [
    "cdf(np.array([0.5,0.7,0.5,0.7]))"
   ]
  },
  {
   "cell_type": "code",
   "execution_count": null,
   "id": "a30a4cd3-58c1-4d77-b629-3a3a2eb1be00",
   "metadata": {},
   "outputs": [],
   "source": []
  }
 ],
 "metadata": {
  "kernelspec": {
   "display_name": "Python 3",
   "language": "python",
   "name": "python3"
  },
  "language_info": {
   "codemirror_mode": {
    "name": "ipython",
    "version": 3
   },
   "file_extension": ".py",
   "mimetype": "text/x-python",
   "name": "python",
   "nbconvert_exporter": "python",
   "pygments_lexer": "ipython3",
   "version": "3.7.4"
  }
 },
 "nbformat": 4,
 "nbformat_minor": 5
}
