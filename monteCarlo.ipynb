{
 "cells": [
  {
   "cell_type": "code",
   "execution_count": 1,
   "id": "6ea0ff9a-9328-42ea-86cd-11548928eeb7",
   "metadata": {},
   "outputs": [],
   "source": [
    "import numpy as np\n",
    "import time\n",
    "import matplotlib.pyplot as plt\n",
    "import bisect"
   ]
  },
  {
   "cell_type": "code",
   "execution_count": 2,
   "id": "173d379a-bdc7-492f-9316-895c5384ed13",
   "metadata": {},
   "outputs": [],
   "source": [
    "def timer(f):\n",
    "    \n",
    "    def countTime(*args, **kwargs):\n",
    "        print(\"Start simulating...\")\n",
    "        s = time.time()\n",
    "        res = f(*args, **kwargs)\n",
    "        e = time.time()\n",
    "        print(\"End simulating.\")\n",
    "        print(\"Processed in %f seconds.\" %(e-s))\n",
    "        return res\n",
    "    \n",
    "    return countTime"
   ]
  },
  {
   "cell_type": "code",
   "execution_count": 3,
   "id": "c876f3c9-e76b-4ebe-87fa-05514252e668",
   "metadata": {},
   "outputs": [],
   "source": [
    "@timer\n",
    "def monteCarlo(points: int, mult: int, weights: np.array, steps: int) -> np.array:\n",
    "    \"\"\"\n",
    "    weights为权重向量，最小值应为0，最大值应为1\n",
    "    \"\"\"\n",
    "    dimension = len(weights)\n",
    "    alpha = np.ones(dimension)*mult/2\n",
    "    rvec = np.random.dirichlet(alpha, size = points)\n",
    "    col = np.dot(rvec, weights)\n",
    "    return col"
   ]
  },
  {
   "cell_type": "code",
   "execution_count": 4,
   "id": "7a6c7a95-8704-44ad-947c-4cb739b6a477",
   "metadata": {},
   "outputs": [],
   "source": [
    "points = 10**6\n",
    "mult = 1\n",
    "weights = np.array([0, 0, 0.3, 1, 1])\n",
    "steps = 10**6"
   ]
  },
  {
   "cell_type": "code",
   "execution_count": 5,
   "id": "4391e6c7-b36e-4a88-9024-083656399334",
   "metadata": {},
   "outputs": [
    {
     "name": "stdout",
     "output_type": "stream",
     "text": [
      "Start simulating...\n",
      "End simulating.\n",
      "Processed in 0.634779 seconds.\n"
     ]
    },
    {
     "data": {
      "image/png": "[encoded data removed]",
      "text/plain": [
       "<Figure size 432x288 with 1 Axes>"
      ]
     },
     "metadata": {
      "needs_background": "light"
     },
     "output_type": "display_data"
    }
   ],
   "source": [
    "col = monteCarlo(points,mult,weights,steps)\n",
    "col.sort()\n",
    "x = np.linspace(0, 1, steps)\n",
    "y = col\n",
    "plt.plot(x, y, ls = \"-\", lw = 2, color = \"purple\")\n",
    "plt.show()"
   ]
  },
  {
   "cell_type": "code",
   "execution_count": null,
   "id": "b2538ead-9bce-4ffc-a2fa-e76d22d3b37c",
   "metadata": {},
   "outputs": [],
   "source": []
  }
 ],
 "metadata": {
  "kernelspec": {
   "display_name": "Python 3 (ipykernel)",
   "language": "python",
   "name": "python3"
  },
  "language_info": {
   "codemirror_mode": {
    "name": "ipython",
    "version": 3
   },
   "file_extension": ".py",
   "mimetype": "text/x-python",
   "name": "python",
   "nbconvert_exporter": "python",
   "pygments_lexer": "ipython3",
   "version": "3.7.12"
  }
 },
 "nbformat": 4,
 "nbformat_minor": 5
}
